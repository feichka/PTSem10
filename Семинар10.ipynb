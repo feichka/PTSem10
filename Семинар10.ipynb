{
 "cells": [
  {
   "cell_type": "markdown",
   "id": "1e5f9af7",
   "metadata": {},
   "source": [
    "Провести дисперсионный анализ для определения того, есть ли различия среднего\n",
    "роста среди взрослых футболистов, хоккеистов и штангистов.\n",
    "Даны значения роста в трех группах случайно выбранных спортсменов:\n",
    "Футболисты: 173, 175, 180, 178, 177, 185, 183, 182.\n",
    "Хоккеисты: 177, 179, 180, 188, 177, 172, 171, 184, 180.\n",
    "Штангисты: 172, 173, 169, 177, 166, 180, 178, 177, 172, 166, 170."
   ]
  },
  {
   "cell_type": "code",
   "execution_count": 22,
   "id": "a2726c57",
   "metadata": {},
   "outputs": [],
   "source": [
    "import numpy as np\n",
    "import scipy.stats as stats\n",
    "import matplotlib.pyplot as plt\n",
    "from statsmodels.stats.multicomp import pairwise_tukeyhsd\n",
    "import pandas as pd"
   ]
  },
  {
   "cell_type": "code",
   "execution_count": 6,
   "id": "ce1994da",
   "metadata": {},
   "outputs": [],
   "source": [
    "f = np.array([173, 175, 180, 178, 177, 185, 183, 182])\n",
    "h = np.array([177, 179, 180, 188, 177, 172, 171, 184, 180])\n",
    "sh = np.array([172, 173, 169, 177, 166, 180, 178, 177, 172, 166, 170])"
   ]
  },
  {
   "cell_type": "markdown",
   "id": "255672ee",
   "metadata": {},
   "source": [
    "Проводим тест на определение нормальности распределения данных в каждой выборке"
   ]
  },
  {
   "cell_type": "code",
   "execution_count": 8,
   "id": "c0c643b2",
   "metadata": {},
   "outputs": [
    {
     "data": {
      "text/plain": [
       "ShapiroResult(statistic=0.9775082468986511, pvalue=0.9495404362678528)"
      ]
     },
     "execution_count": 8,
     "metadata": {},
     "output_type": "execute_result"
    }
   ],
   "source": [
    "stats.shapiro(f)"
   ]
  },
  {
   "cell_type": "code",
   "execution_count": 9,
   "id": "abf1800b",
   "metadata": {},
   "outputs": [
    {
     "data": {
      "text/plain": [
       "ShapiroResult(statistic=0.9579196572303772, pvalue=0.7763139009475708)"
      ]
     },
     "execution_count": 9,
     "metadata": {},
     "output_type": "execute_result"
    }
   ],
   "source": [
    "stats.shapiro(h)"
   ]
  },
  {
   "cell_type": "code",
   "execution_count": 10,
   "id": "80cece7c",
   "metadata": {},
   "outputs": [
    {
     "data": {
      "text/plain": [
       "ShapiroResult(statistic=0.9386808276176453, pvalue=0.5051165223121643)"
      ]
     },
     "execution_count": 10,
     "metadata": {},
     "output_type": "execute_result"
    }
   ],
   "source": [
    "stats.shapiro(sh)"
   ]
  },
  {
   "cell_type": "markdown",
   "id": "ce7c407d",
   "metadata": {},
   "source": [
    "Во всех трех случаях pvalue больше статистического уровня значимости 5% (alpha = 0.05), нулевая гипотеза о нормальном распределении в каждой выборке не отвергается"
   ]
  },
  {
   "cell_type": "markdown",
   "id": "8519a45f",
   "metadata": {},
   "source": [
    "Проводим тест на равенство дисперсий"
   ]
  },
  {
   "cell_type": "code",
   "execution_count": 15,
   "id": "23d652df",
   "metadata": {},
   "outputs": [
    {
     "data": {
      "text/plain": [
       "BartlettResult(statistic=0.4640521043406442, pvalue=0.7929254656083131)"
      ]
     },
     "execution_count": 15,
     "metadata": {},
     "output_type": "execute_result"
    }
   ],
   "source": [
    "stats.bartlett(f, h, sh)"
   ]
  },
  {
   "cell_type": "markdown",
   "id": "c4c16a91",
   "metadata": {},
   "source": [
    "Делаем вывод о равенстве дисперсий в каждой выборке. Оба условия проведения дисперсионного анализа соблюдены."
   ]
  },
  {
   "cell_type": "markdown",
   "id": "2fea5314",
   "metadata": {},
   "source": [
    "Проводим дисперсионный анализ"
   ]
  },
  {
   "cell_type": "code",
   "execution_count": 16,
   "id": "544febd8",
   "metadata": {},
   "outputs": [
    {
     "data": {
      "text/plain": [
       "F_onewayResult(statistic=5.500053450812596, pvalue=0.010482206918698694)"
      ]
     },
     "execution_count": 16,
     "metadata": {},
     "output_type": "execute_result"
    }
   ],
   "source": [
    "stats.f_oneway(f, h, sh)"
   ]
  },
  {
   "cell_type": "markdown",
   "id": "538dc7b6",
   "metadata": {},
   "source": [
    "При статистическом уровне значимости 5% (alpha = 0.05) можно сделать вывод о наличии значимых различий между средним ростом среди взрослых футболистов, хоккеистов и штангистов."
   ]
  },
  {
   "cell_type": "code",
   "execution_count": null,
   "id": "a797e5d8",
   "metadata": {},
   "outputs": [],
   "source": []
  }
 ],
 "metadata": {
  "kernelspec": {
   "display_name": "Python 3 (ipykernel)",
   "language": "python",
   "name": "python3"
  },
  "language_info": {
   "codemirror_mode": {
    "name": "ipython",
    "version": 3
   },
   "file_extension": ".py",
   "mimetype": "text/x-python",
   "name": "python",
   "nbconvert_exporter": "python",
   "pygments_lexer": "ipython3",
   "version": "3.9.13"
  }
 },
 "nbformat": 4,
 "nbformat_minor": 5
}
